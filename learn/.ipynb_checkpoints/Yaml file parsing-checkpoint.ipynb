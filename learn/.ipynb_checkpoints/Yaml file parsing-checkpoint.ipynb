{
 "cells": [
  {
   "cell_type": "code",
   "execution_count": 9,
   "id": "united-calculator",
   "metadata": {},
   "outputs": [
    {
     "name": "stdout",
     "output_type": "stream",
     "text": [
      "- f1: true\r\n",
      "- f2: \"true\"\r\n",
      "- f3: off\r\n",
      "- f4: \"off\"\r\n"
     ]
    }
   ],
   "source": [
    "! cat test.yaml"
   ]
  },
  {
   "cell_type": "code",
   "execution_count": 10,
   "id": "concrete-electricity",
   "metadata": {},
   "outputs": [],
   "source": [
    "import yaml\n",
    "with open('test.yaml', 'r') as f:\n",
    "    yml = yaml.safe_load(f)"
   ]
  },
  {
   "cell_type": "code",
   "execution_count": 11,
   "id": "nearby-offer",
   "metadata": {},
   "outputs": [
    {
     "data": {
      "text/plain": [
       "[{'f1': True}, {'f2': 'true'}, {'f3': False}, {'f4': 'off'}]"
      ]
     },
     "execution_count": 11,
     "metadata": {},
     "output_type": "execute_result"
    }
   ],
   "source": [
    "yml"
   ]
  },
  {
   "cell_type": "code",
   "execution_count": null,
   "id": "private-legend",
   "metadata": {},
   "outputs": [],
   "source": []
  }
 ],
 "metadata": {
  "kernelspec": {
   "display_name": "Python 3",
   "language": "python",
   "name": "python3"
  },
  "language_info": {
   "codemirror_mode": {
    "name": "ipython",
    "version": 3
   },
   "file_extension": ".py",
   "mimetype": "text/x-python",
   "name": "python",
   "nbconvert_exporter": "python",
   "pygments_lexer": "ipython3",
   "version": "3.8.3"
  }
 },
 "nbformat": 4,
 "nbformat_minor": 5
}
